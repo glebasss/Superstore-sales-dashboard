{
 "cells": [
  {
   "cell_type": "code",
   "execution_count": 97,
   "metadata": {},
   "outputs": [],
   "source": [
    "import pandas as pd\n",
    "import numpy as np\n",
    "import plotly.express as px\n",
    "from dash import Dash, dcc, html, callback, Input, Output, State, callback_context, no_update\n",
    "import dash_bootstrap_components as dbc\n",
    "import json"
   ]
  },
  {
   "cell_type": "code",
   "execution_count": 98,
   "metadata": {},
   "outputs": [],
   "source": [
    "app = Dash(__name__, external_stylesheets=[dbc.themes.MORPH])\n",
    "app.config.suppress_callback_exceptions = True"
   ]
  },
  {
   "cell_type": "code",
   "execution_count": 99,
   "metadata": {},
   "outputs": [
    {
     "data": {
      "text/html": [
       "\n",
       "<style>\n",
       "    .center-alert-close .close {\n",
       "        float: none; /* This centers the close button */\n",
       "        display: block;\n",
       "        margin: 0 auto;\n",
       "    }\n",
       "    .alert-custom {\n",
       "        background-color: #4CAF50; /* Custom background color */\n",
       "        border: 2px solid #0FFE00; /* Custom border */\n",
       "        width: 400px;\n",
       "        margin: 20px auto; /* Center the alert in the notebook */\n",
       "        text-align: center;\n",
       "    }\n",
       "</style>\n"
      ],
      "text/plain": [
       "<IPython.core.display.HTML object>"
      ]
     },
     "execution_count": 99,
     "metadata": {},
     "output_type": "execute_result"
    }
   ],
   "source": [
    "from IPython.display import HTML\n",
    "\n",
    "# Your custom CSS style\n",
    "custom_css = \"\"\"\n",
    "<style>\n",
    "    .center-alert-close .close {\n",
    "        float: none; /* This centers the close button */\n",
    "        display: block;\n",
    "        margin: 0 auto;\n",
    "    }\n",
    "    .alert-custom {\n",
    "        background-color: #4CAF50; /* Custom background color */\n",
    "        border: 2px solid #0FFE00; /* Custom border */\n",
    "        width: 400px;\n",
    "        margin: 20px auto; /* Center the alert in the notebook */\n",
    "        text-align: center;\n",
    "    }\n",
    "</style>\n",
    "\"\"\"\n",
    "\n",
    "# Inject the custom CSS into the notebook\n",
    "HTML(custom_css)"
   ]
  },
  {
   "cell_type": "code",
   "execution_count": 100,
   "metadata": {},
   "outputs": [],
   "source": [
    "app.layout = dbc.Container([\n",
    "dbc.Alert(\n",
    "    [\n",
    "        html.H4(\"Some advices!!\", className=\"alert-heading\",style={'color': 'primary', 'text-align': 'center'}),\n",
    "        html.P(\n",
    "           \"You can interact with the charts by clicking on them.\",\n",
    "            style={'font-size': '14px', 'color': 'primary', 'text-align': 'center'}\n",
    "        ),\n",
    "\n",
    "    ],\n",
    "    dismissable=True,\n",
    "    className='center-alert-close',\n",
    "    style = {\n",
    "    'width': '400px',\n",
    "    'margin': '0 auto',\n",
    "    'text-align': 'center',\n",
    "    'background-color': '#4CAF50',\n",
    "    'border': '2px solid #0FFE00',\n",
    "    }\n",
    ")\n",
    "])"
   ]
  },
  {
   "cell_type": "code",
   "execution_count": 101,
   "metadata": {},
   "outputs": [
    {
     "data": {
      "text/html": [
       "\n",
       "        <iframe\n",
       "            width=\"100%\"\n",
       "            height=\"650\"\n",
       "            src=\"http://127.0.0.1:8052/\"\n",
       "            frameborder=\"0\"\n",
       "            allowfullscreen\n",
       "            \n",
       "        ></iframe>\n",
       "        "
      ],
      "text/plain": [
       "<IPython.lib.display.IFrame at 0x23db64610d0>"
      ]
     },
     "metadata": {},
     "output_type": "display_data"
    }
   ],
   "source": [
    "if __name__ == \"__main__\":\n",
    "    app.run_server(debug=True, port=8052)"
   ]
  }
 ],
 "metadata": {
  "kernelspec": {
   "display_name": "Python 3",
   "language": "python",
   "name": "python3"
  },
  "language_info": {
   "codemirror_mode": {
    "name": "ipython",
    "version": 3
   },
   "file_extension": ".py",
   "mimetype": "text/x-python",
   "name": "python",
   "nbconvert_exporter": "python",
   "pygments_lexer": "ipython3",
   "version": "3.11.4"
  }
 },
 "nbformat": 4,
 "nbformat_minor": 2
}
