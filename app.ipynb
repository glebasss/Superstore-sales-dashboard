{
 "cells": [
  {
   "cell_type": "code",
   "execution_count": 4615,
   "metadata": {},
   "outputs": [],
   "source": [
    "import pandas as pd\n",
    "import seaborn as sns\n",
    "import numpy as np\n",
    "import matplotlib.pyplot as plt\n",
    "import plotly.express as px\n",
    "from dash import Dash,dcc, html, callback,Input,Output,State,callback_context,no_update\n",
    "import dash_bootstrap_components as dbc\n",
    "import dash_ag_grid as dag"
   ]
  },
  {
   "cell_type": "markdown",
   "metadata": {},
   "source": [
    "#### In this small project i want to make analyzing using oop\n",
    "\n",
    "**Let's start!**"
   ]
  },
  {
   "cell_type": "code",
   "execution_count": 4616,
   "metadata": {},
   "outputs": [],
   "source": [
    "app = Dash(__name__,external_stylesheets=[dbc.themes.BOOTSTRAP])\n",
    "app.config.suppress_callback_exceptions = True"
   ]
  },
  {
   "cell_type": "code",
   "execution_count": 4617,
   "metadata": {},
   "outputs": [],
   "source": [
    "df = pd.read_csv(\"Sample - Superstore.csv\",encoding='cp1252') # <- Just reading file"
   ]
  },
  {
   "cell_type": "code",
   "execution_count": 4618,
   "metadata": {},
   "outputs": [],
   "source": [
    "dfinfo = pd.read_csv('Info.csv')"
   ]
  },
  {
   "cell_type": "code",
   "execution_count": 4619,
   "metadata": {},
   "outputs": [
    {
     "data": {
      "text/plain": [
       "Row ID           0\n",
       "Order ID         0\n",
       "Order Date       0\n",
       "Ship Date        0\n",
       "Ship Mode        0\n",
       "Customer ID      0\n",
       "Customer Name    0\n",
       "Segment          0\n",
       "Country          0\n",
       "City             0\n",
       "State            0\n",
       "Postal Code      0\n",
       "Region           0\n",
       "Product ID       0\n",
       "Category         0\n",
       "Sub-Category     0\n",
       "Product Name     0\n",
       "Sales            0\n",
       "Quantity         0\n",
       "Discount         0\n",
       "Profit           0\n",
       "dtype: int64"
      ]
     },
     "execution_count": 4619,
     "metadata": {},
     "output_type": "execute_result"
    }
   ],
   "source": [
    "df.isna().sum() # We haven't any null here and we can continue work with this project"
   ]
  },
  {
   "cell_type": "code",
   "execution_count": 4620,
   "metadata": {},
   "outputs": [
    {
     "data": {
      "text/html": [
       "<div>\n",
       "<style scoped>\n",
       "    .dataframe tbody tr th:only-of-type {\n",
       "        vertical-align: middle;\n",
       "    }\n",
       "\n",
       "    .dataframe tbody tr th {\n",
       "        vertical-align: top;\n",
       "    }\n",
       "\n",
       "    .dataframe thead th {\n",
       "        text-align: right;\n",
       "    }\n",
       "</style>\n",
       "<table border=\"1\" class=\"dataframe\">\n",
       "  <thead>\n",
       "    <tr style=\"text-align: right;\">\n",
       "      <th></th>\n",
       "      <th>Row ID</th>\n",
       "      <th>Order ID</th>\n",
       "      <th>Order Date</th>\n",
       "      <th>Ship Date</th>\n",
       "      <th>Ship Mode</th>\n",
       "      <th>Customer ID</th>\n",
       "      <th>Customer Name</th>\n",
       "      <th>Segment</th>\n",
       "      <th>Country</th>\n",
       "      <th>City</th>\n",
       "      <th>...</th>\n",
       "      <th>Postal Code</th>\n",
       "      <th>Region</th>\n",
       "      <th>Product ID</th>\n",
       "      <th>Category</th>\n",
       "      <th>Sub-Category</th>\n",
       "      <th>Product Name</th>\n",
       "      <th>Sales</th>\n",
       "      <th>Quantity</th>\n",
       "      <th>Discount</th>\n",
       "      <th>Profit</th>\n",
       "    </tr>\n",
       "  </thead>\n",
       "  <tbody>\n",
       "    <tr>\n",
       "      <th>0</th>\n",
       "      <td>1</td>\n",
       "      <td>CA-2016-152156</td>\n",
       "      <td>11/8/2016</td>\n",
       "      <td>11/11/2016</td>\n",
       "      <td>Second Class</td>\n",
       "      <td>CG-12520</td>\n",
       "      <td>Claire Gute</td>\n",
       "      <td>Consumer</td>\n",
       "      <td>United States</td>\n",
       "      <td>Henderson</td>\n",
       "      <td>...</td>\n",
       "      <td>42420</td>\n",
       "      <td>South</td>\n",
       "      <td>FUR-BO-10001798</td>\n",
       "      <td>Furniture</td>\n",
       "      <td>Bookcases</td>\n",
       "      <td>Bush Somerset Collection Bookcase</td>\n",
       "      <td>261.96</td>\n",
       "      <td>2</td>\n",
       "      <td>0.0</td>\n",
       "      <td>41.9136</td>\n",
       "    </tr>\n",
       "  </tbody>\n",
       "</table>\n",
       "<p>1 rows × 21 columns</p>\n",
       "</div>"
      ],
      "text/plain": [
       "   Row ID        Order ID Order Date   Ship Date     Ship Mode Customer ID  \\\n",
       "0       1  CA-2016-152156  11/8/2016  11/11/2016  Second Class    CG-12520   \n",
       "\n",
       "  Customer Name   Segment        Country       City  ... Postal Code  Region  \\\n",
       "0   Claire Gute  Consumer  United States  Henderson  ...       42420   South   \n",
       "\n",
       "        Product ID   Category Sub-Category                       Product Name  \\\n",
       "0  FUR-BO-10001798  Furniture    Bookcases  Bush Somerset Collection Bookcase   \n",
       "\n",
       "    Sales  Quantity  Discount   Profit  \n",
       "0  261.96         2       0.0  41.9136  \n",
       "\n",
       "[1 rows x 21 columns]"
      ]
     },
     "execution_count": 4620,
     "metadata": {},
     "output_type": "execute_result"
    }
   ],
   "source": [
    "df.head(1)"
   ]
  },
  {
   "cell_type": "code",
   "execution_count": 4621,
   "metadata": {},
   "outputs": [],
   "source": [
    "df_cat = df.groupby('Category')['Sales'].sum().reset_index()"
   ]
  },
  {
   "cell_type": "code",
   "execution_count": 4622,
   "metadata": {},
   "outputs": [
    {
     "data": {
      "text/html": [
       "<div>\n",
       "<style scoped>\n",
       "    .dataframe tbody tr th:only-of-type {\n",
       "        vertical-align: middle;\n",
       "    }\n",
       "\n",
       "    .dataframe tbody tr th {\n",
       "        vertical-align: top;\n",
       "    }\n",
       "\n",
       "    .dataframe thead th {\n",
       "        text-align: right;\n",
       "    }\n",
       "</style>\n",
       "<table border=\"1\" class=\"dataframe\">\n",
       "  <thead>\n",
       "    <tr style=\"text-align: right;\">\n",
       "      <th></th>\n",
       "      <th>Category</th>\n",
       "      <th>Sales</th>\n",
       "    </tr>\n",
       "  </thead>\n",
       "  <tbody>\n",
       "    <tr>\n",
       "      <th>0</th>\n",
       "      <td>Furniture</td>\n",
       "      <td>741999.7953</td>\n",
       "    </tr>\n",
       "    <tr>\n",
       "      <th>1</th>\n",
       "      <td>Office Supplies</td>\n",
       "      <td>719047.0320</td>\n",
       "    </tr>\n",
       "    <tr>\n",
       "      <th>2</th>\n",
       "      <td>Technology</td>\n",
       "      <td>836154.0330</td>\n",
       "    </tr>\n",
       "  </tbody>\n",
       "</table>\n",
       "</div>"
      ],
      "text/plain": [
       "          Category        Sales\n",
       "0        Furniture  741999.7953\n",
       "1  Office Supplies  719047.0320\n",
       "2       Technology  836154.0330"
      ]
     },
     "execution_count": 4622,
     "metadata": {},
     "output_type": "execute_result"
    }
   ],
   "source": [
    "df_cat"
   ]
  },
  {
   "cell_type": "markdown",
   "metadata": {},
   "source": [
    "## Page 0"
   ]
  },
  {
   "cell_type": "code",
   "execution_count": 4623,
   "metadata": {},
   "outputs": [],
   "source": [
    "df_data = df.copy()"
   ]
  },
  {
   "cell_type": "code",
   "execution_count": 4624,
   "metadata": {},
   "outputs": [],
   "source": [
    "df_data['Order Date'] = pd.to_datetime(df_data['Order Date'])\n",
    "df_data = df_data[['Order Date','Sales','Profit']]"
   ]
  },
  {
   "cell_type": "code",
   "execution_count": 4625,
   "metadata": {},
   "outputs": [
    {
     "data": {
      "text/html": [
       "<div>\n",
       "<style scoped>\n",
       "    .dataframe tbody tr th:only-of-type {\n",
       "        vertical-align: middle;\n",
       "    }\n",
       "\n",
       "    .dataframe tbody tr th {\n",
       "        vertical-align: top;\n",
       "    }\n",
       "\n",
       "    .dataframe thead th {\n",
       "        text-align: right;\n",
       "    }\n",
       "</style>\n",
       "<table border=\"1\" class=\"dataframe\">\n",
       "  <thead>\n",
       "    <tr style=\"text-align: right;\">\n",
       "      <th></th>\n",
       "      <th>Order Date</th>\n",
       "      <th>Sales</th>\n",
       "      <th>Profit</th>\n",
       "    </tr>\n",
       "  </thead>\n",
       "  <tbody>\n",
       "    <tr>\n",
       "      <th>739</th>\n",
       "      <td>2014-01-04</td>\n",
       "      <td>11.784</td>\n",
       "      <td>4.2717</td>\n",
       "    </tr>\n",
       "    <tr>\n",
       "      <th>740</th>\n",
       "      <td>2014-01-04</td>\n",
       "      <td>272.736</td>\n",
       "      <td>-64.7748</td>\n",
       "    </tr>\n",
       "    <tr>\n",
       "      <th>741</th>\n",
       "      <td>2014-01-04</td>\n",
       "      <td>3.540</td>\n",
       "      <td>-5.4870</td>\n",
       "    </tr>\n",
       "    <tr>\n",
       "      <th>1759</th>\n",
       "      <td>2014-01-05</td>\n",
       "      <td>19.536</td>\n",
       "      <td>4.8840</td>\n",
       "    </tr>\n",
       "    <tr>\n",
       "      <th>7980</th>\n",
       "      <td>2014-01-03</td>\n",
       "      <td>16.448</td>\n",
       "      <td>5.5512</td>\n",
       "    </tr>\n",
       "  </tbody>\n",
       "</table>\n",
       "</div>"
      ],
      "text/plain": [
       "     Order Date    Sales   Profit\n",
       "739  2014-01-04   11.784   4.2717\n",
       "740  2014-01-04  272.736 -64.7748\n",
       "741  2014-01-04    3.540  -5.4870\n",
       "1759 2014-01-05   19.536   4.8840\n",
       "7980 2014-01-03   16.448   5.5512"
      ]
     },
     "execution_count": 4625,
     "metadata": {},
     "output_type": "execute_result"
    }
   ],
   "source": [
    "df_data[df_data['Order Date'].between('2014-01-03','2014-01-05')]"
   ]
  },
  {
   "cell_type": "code",
   "execution_count": 4626,
   "metadata": {},
   "outputs": [],
   "source": [
    "df_data = df_data.groupby('Order Date')[['Sales','Profit']].sum().reset_index()"
   ]
  },
  {
   "cell_type": "code",
   "execution_count": 4627,
   "metadata": {},
   "outputs": [],
   "source": [
    "df_data['date_num'] = (df_data['Order Date']-pd.to_datetime('2014-01-03')).dt.days"
   ]
  },
  {
   "cell_type": "code",
   "execution_count": 4628,
   "metadata": {},
   "outputs": [],
   "source": [
    "df_data = df_data.sort_values(by='Order Date')"
   ]
  },
  {
   "cell_type": "code",
   "execution_count": 4629,
   "metadata": {},
   "outputs": [
    {
     "data": {
      "text/html": [
       "<div>\n",
       "<style scoped>\n",
       "    .dataframe tbody tr th:only-of-type {\n",
       "        vertical-align: middle;\n",
       "    }\n",
       "\n",
       "    .dataframe tbody tr th {\n",
       "        vertical-align: top;\n",
       "    }\n",
       "\n",
       "    .dataframe thead th {\n",
       "        text-align: right;\n",
       "    }\n",
       "</style>\n",
       "<table border=\"1\" class=\"dataframe\">\n",
       "  <thead>\n",
       "    <tr style=\"text-align: right;\">\n",
       "      <th></th>\n",
       "      <th>Order Date</th>\n",
       "      <th>Sales</th>\n",
       "      <th>Profit</th>\n",
       "      <th>date_num</th>\n",
       "    </tr>\n",
       "  </thead>\n",
       "  <tbody>\n",
       "    <tr>\n",
       "      <th>0</th>\n",
       "      <td>2014-01-03</td>\n",
       "      <td>16.448</td>\n",
       "      <td>5.5512</td>\n",
       "      <td>0</td>\n",
       "    </tr>\n",
       "    <tr>\n",
       "      <th>1</th>\n",
       "      <td>2014-01-04</td>\n",
       "      <td>288.060</td>\n",
       "      <td>-65.9901</td>\n",
       "      <td>1</td>\n",
       "    </tr>\n",
       "    <tr>\n",
       "      <th>2</th>\n",
       "      <td>2014-01-05</td>\n",
       "      <td>19.536</td>\n",
       "      <td>4.8840</td>\n",
       "      <td>2</td>\n",
       "    </tr>\n",
       "    <tr>\n",
       "      <th>3</th>\n",
       "      <td>2014-01-06</td>\n",
       "      <td>4407.100</td>\n",
       "      <td>1358.0524</td>\n",
       "      <td>3</td>\n",
       "    </tr>\n",
       "    <tr>\n",
       "      <th>4</th>\n",
       "      <td>2014-01-07</td>\n",
       "      <td>87.158</td>\n",
       "      <td>-71.9621</td>\n",
       "      <td>4</td>\n",
       "    </tr>\n",
       "  </tbody>\n",
       "</table>\n",
       "</div>"
      ],
      "text/plain": [
       "  Order Date     Sales     Profit  date_num\n",
       "0 2014-01-03    16.448     5.5512         0\n",
       "1 2014-01-04   288.060   -65.9901         1\n",
       "2 2014-01-05    19.536     4.8840         2\n",
       "3 2014-01-06  4407.100  1358.0524         3\n",
       "4 2014-01-07    87.158   -71.9621         4"
      ]
     },
     "execution_count": 4629,
     "metadata": {},
     "output_type": "execute_result"
    }
   ],
   "source": [
    "df_data.head()"
   ]
  },
  {
   "cell_type": "code",
   "execution_count": 4630,
   "metadata": {},
   "outputs": [],
   "source": [
    "marks = {i : date.strftime(r'%Y-%m-%d') for i,date in zip(df_data['date_num'],df_data['Order Date'])}"
   ]
  },
  {
   "cell_type": "code",
   "execution_count": 4631,
   "metadata": {},
   "outputs": [],
   "source": [
    "card1 = dbc.Card(\n",
    "    dbc.CardBody([\n",
    "        html.H4(\"Total Sales\", className=\"card-title\"),\n",
    "        html.H2(id='text-card1', className=\"card-text\"),\n",
    "        html.I(className=\"bi bi-info-circle-fill me-2\"),\n",
    "    ]),\n",
    "    id = 'card1',\n",
    "    color=\"primary\", inverse=True\n",
    ")"
   ]
  },
  {
   "cell_type": "code",
   "execution_count": 4632,
   "metadata": {},
   "outputs": [],
   "source": [
    "card2 = dbc.Card(\n",
    "    dbc.CardBody([\n",
    "        html.H4(\"Total Profit\", className=\"card-title\"),\n",
    "        html.H2(id='text-card2', className=\"card-text\"),\n",
    "        html.I(className=\"bi bi-info-circle-fill me-2\"),\n",
    "    ]),\n",
    "    id = 'card2',\n",
    "    color=\"primary\", inverse=True\n",
    ")"
   ]
  },
  {
   "cell_type": "code",
   "execution_count": 4633,
   "metadata": {},
   "outputs": [],
   "source": [
    "range_slider_card1 = dcc.RangeSlider(id = 'range-slider',\n",
    "                    min=df_data['date_num'].min(),max=df_data['date_num'].max(),step=1,\n",
    "                    value = [df_data['date_num'].min(),df_data['date_num'].max()],marks=None)"
   ]
  },
  {
   "cell_type": "code",
   "execution_count": 4634,
   "metadata": {},
   "outputs": [],
   "source": [
    "\n",
    "page_0 = dbc.Container(\n",
    "    [\n",
    "    dbc.Row([\n",
    "    html.H3('Category sales', className='text-left'),\n",
    "    ]),\n",
    "dbc.Row([\n",
    "    dbc.Col(),\n",
    "    dbc.Col(dcc.RadioItems(\n",
    "        ['Sales','Profit'],id='sales_or_profit',value='Sales',\n",
    "        inline=True)),\n",
    "    ]),\n",
    "dbc.Row([\n",
    "    dbc.Col(dcc.Graph(id='categories'),\n",
    "                  width={\"size\": 4}),\n",
    "    dbc.Col(dcc.Graph(id='sub-categories'),width={\"size\": 4}),\n",
    "    dbc.Col(dcc.Graph(id='one-sales-profit'),width={\"size\": 4}),\n",
    "    ]),\n",
    "dbc.Row([\n",
    "    dbc.Col(card1),\n",
    "    dbc.Col(card2),\n",
    "    dbc.Col(),\n",
    "    dbc.Col(),\n",
    "]),\n",
    "dbc.Row([\n",
    "    dbc.Col(range_slider_card1),\n",
    "]),\n",
    "dbc.Row([\n",
    "    dbc.Col(html.Div(id='slider-output', className='mt-4')),\n",
    "        ]),\n",
    "   ],fluid=True\n",
    "   )"
   ]
  },
  {
   "cell_type": "markdown",
   "metadata": {},
   "source": [
    "## Page 1"
   ]
  },
  {
   "cell_type": "code",
   "execution_count": 4635,
   "metadata": {},
   "outputs": [],
   "source": [
    "superstore_cities = pd.read_csv(\"Superstore cities.csv\")"
   ]
  },
  {
   "cell_type": "code",
   "execution_count": 4636,
   "metadata": {},
   "outputs": [],
   "source": [
    "import json\n",
    "with open('state_codes.json', 'r') as f:\n",
    "    state_codes = json.load(f)"
   ]
  },
  {
   "cell_type": "code",
   "execution_count": 4637,
   "metadata": {},
   "outputs": [],
   "source": [
    "df_states_w_city = df.drop('Order Date',axis=1).groupby(['State','City']).sum()[['Sales','Profit']].reset_index()"
   ]
  },
  {
   "cell_type": "code",
   "execution_count": 4638,
   "metadata": {},
   "outputs": [],
   "source": [
    "df_states_w_city['State code'] = df_states_w_city['State'].map(state_codes)"
   ]
  },
  {
   "cell_type": "code",
   "execution_count": 4639,
   "metadata": {},
   "outputs": [],
   "source": [
    "df_states_no_city = df_states_w_city.drop('City',axis=1).groupby(['State','State code']).sum().reset_index()"
   ]
  },
  {
   "cell_type": "code",
   "execution_count": 4640,
   "metadata": {},
   "outputs": [
    {
     "data": {
      "text/html": [
       "<div>\n",
       "<style scoped>\n",
       "    .dataframe tbody tr th:only-of-type {\n",
       "        vertical-align: middle;\n",
       "    }\n",
       "\n",
       "    .dataframe tbody tr th {\n",
       "        vertical-align: top;\n",
       "    }\n",
       "\n",
       "    .dataframe thead th {\n",
       "        text-align: right;\n",
       "    }\n",
       "</style>\n",
       "<table border=\"1\" class=\"dataframe\">\n",
       "  <thead>\n",
       "    <tr style=\"text-align: right;\">\n",
       "      <th></th>\n",
       "      <th>State</th>\n",
       "      <th>State code</th>\n",
       "      <th>Sales</th>\n",
       "      <th>Profit</th>\n",
       "    </tr>\n",
       "  </thead>\n",
       "  <tbody>\n",
       "    <tr>\n",
       "      <th>0</th>\n",
       "      <td>Alabama</td>\n",
       "      <td>AL</td>\n",
       "      <td>19510.6400</td>\n",
       "      <td>5786.8253</td>\n",
       "    </tr>\n",
       "    <tr>\n",
       "      <th>1</th>\n",
       "      <td>Arizona</td>\n",
       "      <td>AZ</td>\n",
       "      <td>35282.0010</td>\n",
       "      <td>-3427.9246</td>\n",
       "    </tr>\n",
       "    <tr>\n",
       "      <th>2</th>\n",
       "      <td>Arkansas</td>\n",
       "      <td>AR</td>\n",
       "      <td>11678.1300</td>\n",
       "      <td>4008.6871</td>\n",
       "    </tr>\n",
       "    <tr>\n",
       "      <th>3</th>\n",
       "      <td>California</td>\n",
       "      <td>CA</td>\n",
       "      <td>457687.6315</td>\n",
       "      <td>76381.3871</td>\n",
       "    </tr>\n",
       "    <tr>\n",
       "      <th>4</th>\n",
       "      <td>Colorado</td>\n",
       "      <td>CO</td>\n",
       "      <td>32108.1180</td>\n",
       "      <td>-6527.8579</td>\n",
       "    </tr>\n",
       "  </tbody>\n",
       "</table>\n",
       "</div>"
      ],
      "text/plain": [
       "        State State code        Sales      Profit\n",
       "0     Alabama         AL   19510.6400   5786.8253\n",
       "1     Arizona         AZ   35282.0010  -3427.9246\n",
       "2    Arkansas         AR   11678.1300   4008.6871\n",
       "3  California         CA  457687.6315  76381.3871\n",
       "4    Colorado         CO   32108.1180  -6527.8579"
      ]
     },
     "execution_count": 4640,
     "metadata": {},
     "output_type": "execute_result"
    }
   ],
   "source": [
    "df_states_no_city.head()"
   ]
  },
  {
   "cell_type": "code",
   "execution_count": 4641,
   "metadata": {},
   "outputs": [],
   "source": [
    "df_states_no_city['Profit'] = df_states_no_city['Profit'].round().apply(lambda x: f'{x} $')"
   ]
  },
  {
   "cell_type": "code",
   "execution_count": 4642,
   "metadata": {},
   "outputs": [],
   "source": [
    "df_states_no_city['Sales'] = df_states_no_city['Sales'].round()"
   ]
  },
  {
   "cell_type": "code",
   "execution_count": 4643,
   "metadata": {},
   "outputs": [],
   "source": [
    "mapp = px.choropleth(\n",
    "    df_states_no_city,\n",
    "    locations='State code',\n",
    "    locationmode=\"USA-states\",\n",
    "    color='Sales',\n",
    "    scope=\"usa\",\n",
    "    hover_name='State',\n",
    "    hover_data={'Sales': True, 'Profit': True},\n",
    "    color_continuous_scale='Viridis'\n",
    ")"
   ]
  },
  {
   "cell_type": "code",
   "execution_count": 4644,
   "metadata": {},
   "outputs": [],
   "source": [
    "page_1 = dbc.Container([\n",
    "    dbc.Row([\n",
    "    html.H3('Sales map', className='text-left'),\n",
    "    ]),\n",
    "    dbc.Row([\n",
    "    dbc.Col(dcc.Graph(figure=mapp,id='map',\n",
    "            style={'padding': '0px', 'margin': '0px','height': '100vh'},\n",
    "             className='container-fluid'),width=7\n",
    "    ),\n",
    "    dbc.Col([\n",
    "        dbc.Row(\n",
    "            dcc.Graph(figure = {},id='map_state',\n",
    "            style={'padding': '0px', 'margin': '0px','height': '45vh'},\n",
    "            className='container-fluid'),\n",
    "        style={'height': '50%'},\n",
    "        ),\n",
    "        dbc.Row(\n",
    "        dcc.Graph(figure = {},id='sub-category-in-state',\n",
    "                 className='container-fluid',\n",
    "                 style={'padding': '0px', 'margin': '0px','height': '45vh'},),    \n",
    "        style={'height': '50%'},\n",
    "        ),\n",
    "        ]),   \n",
    "    ]),\n",
    "],fluid=True, className=\"mt-1\")"
   ]
  },
  {
   "cell_type": "code",
   "execution_count": 4645,
   "metadata": {},
   "outputs": [],
   "source": [
    "page_2 = dbc.Container([\n",
    "    dbc.Row([\n",
    "    html.H3('The most popular products', className='text-left'),\n",
    "    ]),\n",
    "    dbc.Row([\n",
    "        dbc.Col([\n",
    "            html.H4('Profit by sales'),\n",
    "            dcc.Dropdown(id='category-for-product',\n",
    "                         options = [{'label': label, 'value': label} for label in df['Product Name'].unique()],\n",
    "                         value=['Staples','Staple remover'],\n",
    "                         multi=True,\n",
    "                         searchable=True,\n",
    "                         placeholder=\"Select products or categories...\",\n",
    "                         clearable=True\n",
    "                         ),\n",
    "            dcc.Graph(figure={},id='profit-sale-product-compare')\n",
    "            ],width=6),\n",
    "        dbc.Col([\n",
    "            html.H4('Choose category'),\n",
    "            dcc.Dropdown(\n",
    "            options = ['Technology','Furniture','Office Supplies'],\n",
    "            value = ['Technology','Furniture','Office Supplies'],\n",
    "            multi = True,\n",
    "            id = 'category-for-products',    \n",
    "            ),           \n",
    "            dcc.Graph(figure = {},id='products'), \n",
    "            dcc.Slider(2,15,1,value=7,id='slider-of-products'),          \n",
    "            ],width=6)\n",
    "    ]),\n",
    "],fluid=True, className=\"mt-4\")"
   ]
  },
  {
   "cell_type": "code",
   "execution_count": 4646,
   "metadata": {},
   "outputs": [],
   "source": [
    "app.layout = dbc.Container([\n",
    "    dcc.Location(id='url', refresh=False),\n",
    "    dbc.NavbarSimple(\n",
    "        brand=\"Superstore\",\n",
    "        brand_href=\"/\",\n",
    "        color=\"primary\",\n",
    "        dark=True,\n",
    "        children=[\n",
    "            dbc.NavItem(dcc.Link('Category Sales', href='/', className='nav-link')),\n",
    "            dbc.NavItem(dcc.Link('Sales map', href='/page-1', className='nav-link')),\n",
    "            dbc.NavItem(dcc.Link('Products', href='/page-2', className='nav-link')),\n",
    "        ]\n",
    "    ),\n",
    "    html.Div(id='page-content')\n",
    "], fluid=True)"
   ]
  },
  {
   "cell_type": "code",
   "execution_count": 4647,
   "metadata": {},
   "outputs": [],
   "source": [
    "@app.callback(Output('page-content', 'children'),\n",
    "              [Input('url', 'pathname')])\n",
    "def display_page(pathname):\n",
    "    if pathname == '/':\n",
    "        return page_0\n",
    "    elif pathname == '/page-1':\n",
    "        return page_1\n",
    "    elif pathname == '/page-2':\n",
    "        return page_2"
   ]
  },
  {
   "cell_type": "code",
   "execution_count": 4648,
   "metadata": {},
   "outputs": [],
   "source": [
    "@callback(\n",
    "    Output('sub-categories','figure'),\n",
    "    Output('one-sales-profit','figure'),\n",
    "    Output('categories','figure'),\n",
    "    Input('categories','clickData'),\n",
    "    Input('sales_or_profit','value'),\n",
    "    Input('range-slider','value'),\n",
    ")\n",
    "def update_bar_char(clickData,val,date):\n",
    "    start_date = pd.to_datetime('2014-01-01') + pd.to_timedelta(date[0], unit='D')\n",
    "    end_date = pd.to_datetime('2014-01-01') + pd.to_timedelta(date[1], unit='D')\n",
    "    df['Order Date'] = pd.to_datetime(df['Order Date'])\n",
    "    df_subs_cat = df[df['Order Date'].between(start_date,end_date)].drop('Order Date',axis=1).\\\n",
    "    groupby(['Sub-Category','Category']).sum()[['Sales','Quantity','Profit']].reset_index()\n",
    "    if clickData == None:\n",
    "         selected_category = 'Furniture'\n",
    "    else :\n",
    "        selected_category = clickData['points'][0]['label']       \n",
    "    filtered_df = df_subs_cat[df_subs_cat['Category'] == selected_category]    \n",
    "    fig = px.bar(filtered_df.sort_values(by=val), y='Sub-Category', x=val, title=f'{val} in {selected_category}')\n",
    "    filtered_df2 = filtered_df.copy()\n",
    "    filtered_df2['coef'] = filtered_df2['Profit']/filtered_df2['Sales']\n",
    "    fig2 = px.bar(filtered_df2.sort_values(by='coef'),x='Sub-Category',y='coef',title='Profit by one sale')\n",
    "    fig3 = px.pie(data_frame=df_subs_cat,values=val,names='Category',title='Category')\n",
    "    return fig,fig2,fig3"
   ]
  },
  {
   "cell_type": "code",
   "execution_count": 4649,
   "metadata": {},
   "outputs": [],
   "source": [
    "@callback(\n",
    "    Output('text-card1','children'),\n",
    "    Output('text-card2','children'),\n",
    "    Input('range-slider','value')\n",
    ")\n",
    "def cards(date):\n",
    "    start_date = pd.to_datetime('2014-01-01') + pd.to_timedelta(date[0], unit='D')\n",
    "    end_date = pd.to_datetime('2014-01-01') + pd.to_timedelta(date[1], unit='D')\n",
    "    df['Order Date'] = pd.to_datetime(df['Order Date'])\n",
    "    df_subs_cat = df[df['Order Date'].between(start_date,end_date)].drop('Order Date',axis=1).\\\n",
    "    groupby(['Sub-Category','Category']).sum()[['Sales','Quantity','Profit']].reset_index()\n",
    "    sales = df_subs_cat['Sales'].sum().round()\n",
    "    profit = df_subs_cat['Profit'].sum().round()\n",
    "    return f'{sales} $',f'{profit} $'\n"
   ]
  },
  {
   "cell_type": "code",
   "execution_count": 4650,
   "metadata": {},
   "outputs": [],
   "source": [
    "@callback(\n",
    "    Output('slider-output','children'),\n",
    "    Input('range-slider','value'),\n",
    ")\n",
    "def range_slider(val):\n",
    "    start_date = pd.to_datetime('2014-01-01') + pd.to_timedelta(val[0], unit='D')\n",
    "    end_date = pd.to_datetime('2014-01-01') + pd.to_timedelta(val[1], unit='D')\n",
    "    return f'Selected range: {start_date.date()} to {end_date.date()}'"
   ]
  },
  {
   "cell_type": "code",
   "execution_count": 4651,
   "metadata": {},
   "outputs": [],
   "source": [
    "@app.callback(\n",
    "    Output('map_state', 'figure'),\n",
    "    Input('map', 'clickData')\n",
    ")\n",
    "def update_bar_chart(clickData):\n",
    "    if clickData is None:\n",
    "        state_name = 'California'\n",
    "    else:\n",
    "        state_name = clickData['points'][0]['hovertext']\n",
    "    filtered_df = df_states_w_city[df_states_w_city['State'] == state_name].sort_values(by='Sales')\n",
    "    fig = px.bar(filtered_df, x='City', y='Sales')\n",
    "    fig.update_yaxes(range=[0, 10000])\n",
    "    return fig"
   ]
  },
  {
   "cell_type": "code",
   "execution_count": 4652,
   "metadata": {},
   "outputs": [],
   "source": [
    "@callback(\n",
    "    Output('sub-category-in-state','figure'),\n",
    "    Input('map', 'clickData'),\n",
    ")\n",
    "def update_bar_subcategory(clickData):\n",
    "    if clickData is None:\n",
    "        state_name = 'California'\n",
    "    else:\n",
    "        state_name = clickData['points'][0]['hovertext']\n",
    "    df_sub_category_state = df[df['State'] == state_name].drop('Order Date',axis=1).\\\n",
    "    groupby(by='Sub-Category').sum().reset_index()[['Sub-Category','Sales']].sort_values(by='Sales')\n",
    "    print(df_sub_category_state)\n",
    "    fig = px.bar(df_sub_category_state, x='Sub-Category', y='Sales')\n",
    "    return fig\n"
   ]
  },
  {
   "cell_type": "code",
   "execution_count": 4653,
   "metadata": {},
   "outputs": [],
   "source": [
    "@callback(\n",
    "Output('products','figure'),\n",
    "Input('slider-of-products','value'),\n",
    "Input('category-for-products','value')\n",
    ")\n",
    "def product_slider(quantity,category):\n",
    "    df_ = df[df['Category'].isin(category)]\n",
    "    df_ = df_['Product Name'].value_counts()[:quantity].reset_index()\n",
    "    fig = px.pie(df_,values='count',names='Product Name')\n",
    "    return fig"
   ]
  },
  {
   "cell_type": "code",
   "execution_count": 4654,
   "metadata": {},
   "outputs": [],
   "source": [
    "@callback(\n",
    "Output('profit-sale-product-compare','figure'),\n",
    "Input('category-for-product','value'),\n",
    ")\n",
    "def profit_sale_product_compare(selected_product):\n",
    "     df_ = df[df['Product Name'].isin(selected_product)]\n",
    "     df_ = df_[['Sales','Profit','Product Name']].groupby('Product Name').sum().reset_index()\n",
    "     df_['Impact'] = df_['Profit']/df_['Sales']\n",
    "     df_['Impact'] = df_['Impact'] + 1\n",
    "     fig = px.bar(df_,x='Product Name',y='Impact')\n",
    "     return fig\n"
   ]
  },
  {
   "cell_type": "code",
   "execution_count": 4655,
   "metadata": {},
   "outputs": [
    {
     "data": {
      "text/html": [
       "\n",
       "        <iframe\n",
       "            width=\"100%\"\n",
       "            height=\"650\"\n",
       "            src=\"http://127.0.0.1:8051/\"\n",
       "            frameborder=\"0\"\n",
       "            allowfullscreen\n",
       "            \n",
       "        ></iframe>\n",
       "        "
      ],
      "text/plain": [
       "<IPython.lib.display.IFrame at 0x29c302d8d10>"
      ]
     },
     "metadata": {},
     "output_type": "display_data"
    }
   ],
   "source": [
    "if __name__ == \"__main__\":\n",
    "    app.run_server(debug=True,port=8051)"
   ]
  }
 ],
 "metadata": {
  "kernelspec": {
   "display_name": "base",
   "language": "python",
   "name": "python3"
  },
  "language_info": {
   "codemirror_mode": {
    "name": "ipython",
    "version": 3
   },
   "file_extension": ".py",
   "mimetype": "text/x-python",
   "name": "python",
   "nbconvert_exporter": "python",
   "pygments_lexer": "ipython3",
   "version": "3.11.4"
  }
 },
 "nbformat": 4,
 "nbformat_minor": 2
}
